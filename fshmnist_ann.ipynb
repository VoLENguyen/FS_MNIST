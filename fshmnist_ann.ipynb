{
  "nbformat": 4,
  "nbformat_minor": 0,
  "metadata": {
    "colab": {
      "provenance": [],
      "authorship_tag": "ABX9TyMboTQSP6iKCkefHBKzlGiS",
      "include_colab_link": true
    },
    "kernelspec": {
      "name": "python3",
      "display_name": "Python 3"
    },
    "language_info": {
      "name": "python"
    },
    "accelerator": "GPU",
    "gpuClass": "standard"
  },
  "cells": [
    {
      "cell_type": "markdown",
      "metadata": {
        "id": "view-in-github",
        "colab_type": "text"
      },
      "source": [
        "<a href=\"https://colab.research.google.com/github/VoLENguyen/FS_MNIST/blob/main/fshmnist_ann.ipynb\" target=\"_parent\"><img src=\"https://colab.research.google.com/assets/colab-badge.svg\" alt=\"Open In Colab\"/></a>"
      ]
    },
    {
      "cell_type": "code",
      "execution_count": 1,
      "metadata": {
        "id": "2dAXqyh3P9Zd",
        "colab": {
          "base_uri": "https://localhost:8080/"
        },
        "outputId": "289033f4-65c8-4d43-e583-0453d74f3d5d"
      },
      "outputs": [
        {
          "output_type": "stream",
          "name": "stdout",
          "text": [
            "Tensorflow:2.11.0\n",
            "Keras: 2.11.0\n"
          ]
        }
      ],
      "source": [
        "import tensorflow as tf\n",
        "from tensorflow import keras\n",
        "print(f\"Tensorflow:{tf.__version__}\\nKeras: {keras.__version__}\")"
      ]
    },
    {
      "cell_type": "markdown",
      "source": [
        "1.Load data\n"
      ],
      "metadata": {
        "id": "0728RL8LQ8-j"
      }
    },
    {
      "cell_type": "code",
      "source": [
        "(x_train,y_train),(x_test,y_test)=keras.datasets.fashion_mnist.load_data()"
      ],
      "metadata": {
        "id": "hz47cIKoQ2l4"
      },
      "execution_count": 2,
      "outputs": []
    },
    {
      "cell_type": "code",
      "source": [
        "type(x_train),type(y_train)"
      ],
      "metadata": {
        "colab": {
          "base_uri": "https://localhost:8080/"
        },
        "id": "raHgO5IZRUTH",
        "outputId": "8cb97bf5-8ccd-4c7e-a096-17d5d9c0da5d"
      },
      "execution_count": 3,
      "outputs": [
        {
          "output_type": "execute_result",
          "data": {
            "text/plain": [
              "(numpy.ndarray, numpy.ndarray)"
            ]
          },
          "metadata": {},
          "execution_count": 3
        }
      ]
    },
    {
      "cell_type": "code",
      "source": [
        "x_train.shape"
      ],
      "metadata": {
        "colab": {
          "base_uri": "https://localhost:8080/"
        },
        "id": "JtU9JAryRhNR",
        "outputId": "39dd4075-274c-47d5-b141-71fa6a130898"
      },
      "execution_count": 4,
      "outputs": [
        {
          "output_type": "execute_result",
          "data": {
            "text/plain": [
              "(60000, 28, 28)"
            ]
          },
          "metadata": {},
          "execution_count": 4
        }
      ]
    },
    {
      "cell_type": "code",
      "source": [
        "y_train.shape"
      ],
      "metadata": {
        "colab": {
          "base_uri": "https://localhost:8080/"
        },
        "id": "HyCzMmgVRnhn",
        "outputId": "4111074e-4041-4998-a73a-8d60b4353497"
      },
      "execution_count": 5,
      "outputs": [
        {
          "output_type": "execute_result",
          "data": {
            "text/plain": [
              "(60000,)"
            ]
          },
          "metadata": {},
          "execution_count": 5
        }
      ]
    },
    {
      "cell_type": "code",
      "source": [
        "x_train.dtype"
      ],
      "metadata": {
        "colab": {
          "base_uri": "https://localhost:8080/"
        },
        "id": "73Jz-oVuRpx-",
        "outputId": "925dea1a-96d4-435a-815e-b360a4501a7d"
      },
      "execution_count": 6,
      "outputs": [
        {
          "output_type": "execute_result",
          "data": {
            "text/plain": [
              "dtype('uint8')"
            ]
          },
          "metadata": {},
          "execution_count": 6
        }
      ]
    },
    {
      "cell_type": "code",
      "source": [
        "x_train[0]"
      ],
      "metadata": {
        "colab": {
          "base_uri": "https://localhost:8080/"
        },
        "id": "lm_c5WDPRy4C",
        "outputId": "33649585-6f12-44d8-9856-9ba65a51ab19"
      },
      "execution_count": 7,
      "outputs": [
        {
          "output_type": "execute_result",
          "data": {
            "text/plain": [
              "array([[  0,   0,   0,   0,   0,   0,   0,   0,   0,   0,   0,   0,   0,\n",
              "          0,   0,   0,   0,   0,   0,   0,   0,   0,   0,   0,   0,   0,\n",
              "          0,   0],\n",
              "       [  0,   0,   0,   0,   0,   0,   0,   0,   0,   0,   0,   0,   0,\n",
              "          0,   0,   0,   0,   0,   0,   0,   0,   0,   0,   0,   0,   0,\n",
              "          0,   0],\n",
              "       [  0,   0,   0,   0,   0,   0,   0,   0,   0,   0,   0,   0,   0,\n",
              "          0,   0,   0,   0,   0,   0,   0,   0,   0,   0,   0,   0,   0,\n",
              "          0,   0],\n",
              "       [  0,   0,   0,   0,   0,   0,   0,   0,   0,   0,   0,   0,   1,\n",
              "          0,   0,  13,  73,   0,   0,   1,   4,   0,   0,   0,   0,   1,\n",
              "          1,   0],\n",
              "       [  0,   0,   0,   0,   0,   0,   0,   0,   0,   0,   0,   0,   3,\n",
              "          0,  36, 136, 127,  62,  54,   0,   0,   0,   1,   3,   4,   0,\n",
              "          0,   3],\n",
              "       [  0,   0,   0,   0,   0,   0,   0,   0,   0,   0,   0,   0,   6,\n",
              "          0, 102, 204, 176, 134, 144, 123,  23,   0,   0,   0,   0,  12,\n",
              "         10,   0],\n",
              "       [  0,   0,   0,   0,   0,   0,   0,   0,   0,   0,   0,   0,   0,\n",
              "          0, 155, 236, 207, 178, 107, 156, 161, 109,  64,  23,  77, 130,\n",
              "         72,  15],\n",
              "       [  0,   0,   0,   0,   0,   0,   0,   0,   0,   0,   0,   1,   0,\n",
              "         69, 207, 223, 218, 216, 216, 163, 127, 121, 122, 146, 141,  88,\n",
              "        172,  66],\n",
              "       [  0,   0,   0,   0,   0,   0,   0,   0,   0,   1,   1,   1,   0,\n",
              "        200, 232, 232, 233, 229, 223, 223, 215, 213, 164, 127, 123, 196,\n",
              "        229,   0],\n",
              "       [  0,   0,   0,   0,   0,   0,   0,   0,   0,   0,   0,   0,   0,\n",
              "        183, 225, 216, 223, 228, 235, 227, 224, 222, 224, 221, 223, 245,\n",
              "        173,   0],\n",
              "       [  0,   0,   0,   0,   0,   0,   0,   0,   0,   0,   0,   0,   0,\n",
              "        193, 228, 218, 213, 198, 180, 212, 210, 211, 213, 223, 220, 243,\n",
              "        202,   0],\n",
              "       [  0,   0,   0,   0,   0,   0,   0,   0,   0,   1,   3,   0,  12,\n",
              "        219, 220, 212, 218, 192, 169, 227, 208, 218, 224, 212, 226, 197,\n",
              "        209,  52],\n",
              "       [  0,   0,   0,   0,   0,   0,   0,   0,   0,   0,   6,   0,  99,\n",
              "        244, 222, 220, 218, 203, 198, 221, 215, 213, 222, 220, 245, 119,\n",
              "        167,  56],\n",
              "       [  0,   0,   0,   0,   0,   0,   0,   0,   0,   4,   0,   0,  55,\n",
              "        236, 228, 230, 228, 240, 232, 213, 218, 223, 234, 217, 217, 209,\n",
              "         92,   0],\n",
              "       [  0,   0,   1,   4,   6,   7,   2,   0,   0,   0,   0,   0, 237,\n",
              "        226, 217, 223, 222, 219, 222, 221, 216, 223, 229, 215, 218, 255,\n",
              "         77,   0],\n",
              "       [  0,   3,   0,   0,   0,   0,   0,   0,   0,  62, 145, 204, 228,\n",
              "        207, 213, 221, 218, 208, 211, 218, 224, 223, 219, 215, 224, 244,\n",
              "        159,   0],\n",
              "       [  0,   0,   0,   0,  18,  44,  82, 107, 189, 228, 220, 222, 217,\n",
              "        226, 200, 205, 211, 230, 224, 234, 176, 188, 250, 248, 233, 238,\n",
              "        215,   0],\n",
              "       [  0,  57, 187, 208, 224, 221, 224, 208, 204, 214, 208, 209, 200,\n",
              "        159, 245, 193, 206, 223, 255, 255, 221, 234, 221, 211, 220, 232,\n",
              "        246,   0],\n",
              "       [  3, 202, 228, 224, 221, 211, 211, 214, 205, 205, 205, 220, 240,\n",
              "         80, 150, 255, 229, 221, 188, 154, 191, 210, 204, 209, 222, 228,\n",
              "        225,   0],\n",
              "       [ 98, 233, 198, 210, 222, 229, 229, 234, 249, 220, 194, 215, 217,\n",
              "        241,  65,  73, 106, 117, 168, 219, 221, 215, 217, 223, 223, 224,\n",
              "        229,  29],\n",
              "       [ 75, 204, 212, 204, 193, 205, 211, 225, 216, 185, 197, 206, 198,\n",
              "        213, 240, 195, 227, 245, 239, 223, 218, 212, 209, 222, 220, 221,\n",
              "        230,  67],\n",
              "       [ 48, 203, 183, 194, 213, 197, 185, 190, 194, 192, 202, 214, 219,\n",
              "        221, 220, 236, 225, 216, 199, 206, 186, 181, 177, 172, 181, 205,\n",
              "        206, 115],\n",
              "       [  0, 122, 219, 193, 179, 171, 183, 196, 204, 210, 213, 207, 211,\n",
              "        210, 200, 196, 194, 191, 195, 191, 198, 192, 176, 156, 167, 177,\n",
              "        210,  92],\n",
              "       [  0,   0,  74, 189, 212, 191, 175, 172, 175, 181, 185, 188, 189,\n",
              "        188, 193, 198, 204, 209, 210, 210, 211, 188, 188, 194, 192, 216,\n",
              "        170,   0],\n",
              "       [  2,   0,   0,   0,  66, 200, 222, 237, 239, 242, 246, 243, 244,\n",
              "        221, 220, 193, 191, 179, 182, 182, 181, 176, 166, 168,  99,  58,\n",
              "          0,   0],\n",
              "       [  0,   0,   0,   0,   0,   0,   0,  40,  61,  44,  72,  41,  35,\n",
              "          0,   0,   0,   0,   0,   0,   0,   0,   0,   0,   0,   0,   0,\n",
              "          0,   0],\n",
              "       [  0,   0,   0,   0,   0,   0,   0,   0,   0,   0,   0,   0,   0,\n",
              "          0,   0,   0,   0,   0,   0,   0,   0,   0,   0,   0,   0,   0,\n",
              "          0,   0],\n",
              "       [  0,   0,   0,   0,   0,   0,   0,   0,   0,   0,   0,   0,   0,\n",
              "          0,   0,   0,   0,   0,   0,   0,   0,   0,   0,   0,   0,   0,\n",
              "          0,   0]], dtype=uint8)"
            ]
          },
          "metadata": {},
          "execution_count": 7
        }
      ]
    },
    {
      "cell_type": "code",
      "source": [
        "class_name = [\"T-Shirt/top\",\"Trouser\",\"Pullover\",\"Dress\",\"Coat\",\"Sandal\",\"Shirt\",\n",
        "              \"Sneaker\",\"Bag\",\"Ankle boot\"]"
      ],
      "metadata": {
        "id": "uXMX3Rh1R3q4"
      },
      "execution_count": 8,
      "outputs": []
    },
    {
      "cell_type": "code",
      "source": [
        "class_name[y_train[0]]"
      ],
      "metadata": {
        "colab": {
          "base_uri": "https://localhost:8080/",
          "height": 36
        },
        "id": "PkuvfmAGSeGE",
        "outputId": "59ec78a8-6dff-41ff-e619-af27f78e1ccf"
      },
      "execution_count": 9,
      "outputs": [
        {
          "output_type": "execute_result",
          "data": {
            "text/plain": [
              "'Ankle boot'"
            ],
            "application/vnd.google.colaboratory.intrinsic+json": {
              "type": "string"
            }
          },
          "metadata": {},
          "execution_count": 9
        }
      ]
    },
    {
      "cell_type": "code",
      "source": [
        "import matplotlib.pyplot as plt\n",
        "import numpy as np\n",
        "import  random as rd"
      ],
      "metadata": {
        "id": "abEskI7gSrMW"
      },
      "execution_count": 10,
      "outputs": []
    },
    {
      "cell_type": "code",
      "source": [
        "plt.imshow(x_train[0])"
      ],
      "metadata": {
        "colab": {
          "base_uri": "https://localhost:8080/",
          "height": 282
        },
        "id": "tlo4r7hNS7wF",
        "outputId": "ed2e52cc-4801-4aa4-c6f1-b120436a5c81"
      },
      "execution_count": 11,
      "outputs": [
        {
          "output_type": "execute_result",
          "data": {
            "text/plain": [
              "<matplotlib.image.AxesImage at 0x7f93b304dc40>"
            ]
          },
          "metadata": {},
          "execution_count": 11
        },
        {
          "output_type": "display_data",
          "data": {
            "text/plain": [
              "<Figure size 432x288 with 1 Axes>"
            ],
            "image/png": "[encoded data removed]"
          },
          "metadata": {
            "needs_background": "light"
          }
        }
      ]
    },
    {
      "cell_type": "markdown",
      "source": [
        "Hàm"
      ],
      "metadata": {
        "id": "N0cKwVANTDy4"
      }
    },
    {
      "cell_type": "code",
      "source": [
        "#from pyparsing.helpers import Optional\n",
        "from typing import Optional\n",
        "def plot_data(x_data:np.ndarray,\n",
        "              y_data : np.ndarray,y_proba:Optional[np.ndarray] = None) -> None:\n",
        "  nrows,ncols =  2,4\n",
        "  fig,axes = plt.subplots(nrows,ncols,figsize = (8,4))\n",
        "  len_x = x_data.shape[0]\n",
        "  for idx in range(nrows*ncols):\n",
        "    ax = axes[idx// ncols,idx % ncols]\n",
        "    \n",
        "    img_idx = rd.randint(0,len_x)\n",
        "\n",
        "    ax.imshow(x_data[img_idx],cmap = 'gray')\n",
        "    ax.set(xticks = [],yticks = [])\n",
        "    color = 'green'\n",
        "    true_label_str = f\"True: {class_name[y_data[img_idx]]}\"\n",
        "    if y_proba is not None:\n",
        "      predicted_index = np.argmax(y_proba[img_idx])\n",
        "      prediction_labels = class_name[predicted_index]\n",
        "      color = 'red' if predicted_index != y_data[img_idx] else color \n",
        "      predicted_label_str = f\"\\nPredicted:{prediction_labels}\"\n",
        "    img_title = true_label_str if y_proba is None else true_label_str + predicted_label_str\n",
        "    ax.set_xlabel(img_title, color = color,fontsize = 12)\n",
        "  plt.tight_layout()\n",
        "  plt.show()\n",
        "\n",
        "plot_data(x_train,y_train)\n",
        "plot_data(x_test,y_test)"
      ],
      "metadata": {
        "colab": {
          "base_uri": "https://localhost:8080/",
          "height": 579
        },
        "id": "H0ruJFj9TCNT",
        "outputId": "93fd4b4f-77d3-454c-df76-4df74b9707f3"
      },
      "execution_count": 45,
      "outputs": [
        {
          "output_type": "display_data",
          "data": {
            "text/plain": [
              "<Figure size 576x288 with 8 Axes>"
            ],
            "image/png": "[encoded data removed]"
          },
          "metadata": {}
        },
        {
          "output_type": "display_data",
          "data": {
            "text/plain": [
              "<Figure size 576x288 with 8 Axes>"
            ],
            "image/png": "[encoded data removed]"
          },
          "metadata": {}
        }
      ]
    },
    {
      "cell_type": "markdown",
      "source": [
        "# ***2.Xử lý hình ảnh***"
      ],
      "metadata": {
        "id": "aXpjXo98Ws8A"
      }
    },
    {
      "cell_type": "code",
      "source": [
        "x_train = x_train.astype(np.float32)/255\n",
        "x_test = x_test.astype(np.float32)/255\n"
      ],
      "metadata": {
        "id": "bRHbNmhDU-ah"
      },
      "execution_count": 13,
      "outputs": []
    },
    {
      "cell_type": "code",
      "source": [
        "x_train.dtype\n",
        "x_test.dtype"
      ],
      "metadata": {
        "colab": {
          "base_uri": "https://localhost:8080/"
        },
        "id": "Cl-DDqwPXtgS",
        "outputId": "fa1a3bc2-f9a9-4871-cb4a-b9226134bc4d"
      },
      "execution_count": 14,
      "outputs": [
        {
          "output_type": "execute_result",
          "data": {
            "text/plain": [
              "dtype('float32')"
            ]
          },
          "metadata": {},
          "execution_count": 14
        }
      ]
    },
    {
      "cell_type": "code",
      "source": [
        "x_train = np.expand_dims(x_train,axis = -1)\n",
        "x_test = np.expand_dims(x_test,axis = -1)\n"
      ],
      "metadata": {
        "id": "4xn_NdpdXwfC"
      },
      "execution_count": 15,
      "outputs": []
    },
    {
      "cell_type": "code",
      "source": [
        "x_train.shape"
      ],
      "metadata": {
        "colab": {
          "base_uri": "https://localhost:8080/"
        },
        "id": "J7_spq1fY_q1",
        "outputId": "96822a12-4366-4362-b3bf-a73a9d544cdc"
      },
      "execution_count": 16,
      "outputs": [
        {
          "output_type": "execute_result",
          "data": {
            "text/plain": [
              "(60000, 28, 28, 1)"
            ]
          },
          "metadata": {},
          "execution_count": 16
        }
      ]
    },
    {
      "cell_type": "code",
      "source": [
        "class_num = len(class_name)\n",
        "y_train_label = keras.utils.to_categorical(y_train,class_num)\n",
        "y_test_label = keras.utils.to_categorical(y_test,class_num)"
      ],
      "metadata": {
        "id": "MUjRvI-mZBn4"
      },
      "execution_count": 17,
      "outputs": []
    },
    {
      "cell_type": "code",
      "source": [
        "y_train[0],y_test_label[0]"
      ],
      "metadata": {
        "colab": {
          "base_uri": "https://localhost:8080/"
        },
        "id": "3ZRxm1dcZlHI",
        "outputId": "b5398ea8-ebf8-4a86-d303-b41cfdede8f3"
      },
      "execution_count": 18,
      "outputs": [
        {
          "output_type": "execute_result",
          "data": {
            "text/plain": [
              "(9, array([0., 0., 0., 0., 0., 0., 0., 0., 0., 1.], dtype=float32))"
            ]
          },
          "metadata": {},
          "execution_count": 18
        }
      ]
    },
    {
      "cell_type": "markdown",
      "source": [
        "# **Build 1 mang  ANN**"
      ],
      "metadata": {
        "id": "siQw36NUaLaa"
      }
    },
    {
      "cell_type": "code",
      "source": [
        "from tensorflow.keras import layers"
      ],
      "metadata": {
        "id": "Usq0LxtsaCas"
      },
      "execution_count": 19,
      "outputs": []
    },
    {
      "cell_type": "code",
      "source": [
        "input_shape = (28,28,1)"
      ],
      "metadata": {
        "id": "IpGyvRRvaqKY"
      },
      "execution_count": 20,
      "outputs": []
    },
    {
      "cell_type": "code",
      "source": [
        "model = keras.models.Sequential([\n",
        "    layers.Flatten(input_shape = input_shape), \n",
        "    layers.Dense(512, activation = 'relu'),\n",
        "    layers.Dense(256,activation = 'relu'),\n",
        "    layers.Dense(class_num,activation='softmax')\n",
        "])\n",
        "model.summary()"
      ],
      "metadata": {
        "colab": {
          "base_uri": "https://localhost:8080/"
        },
        "id": "28eadrbcaexo",
        "outputId": "28f52d2b-f36e-4ac6-be80-ff84a023993d"
      },
      "execution_count": 21,
      "outputs": [
        {
          "output_type": "stream",
          "name": "stdout",
          "text": [
            "Model: \"sequential\"\n",
            "_________________________________________________________________\n",
            " Layer (type)                Output Shape              Param #   \n",
            "=================================================================\n",
            " flatten (Flatten)           (None, 784)               0         \n",
            "                                                                 \n",
            " dense (Dense)               (None, 512)               401920    \n",
            "                                                                 \n",
            " dense_1 (Dense)             (None, 256)               131328    \n",
            "                                                                 \n",
            " dense_2 (Dense)             (None, 10)                2570      \n",
            "                                                                 \n",
            "=================================================================\n",
            "Total params: 535,818\n",
            "Trainable params: 535,818\n",
            "Non-trainable params: 0\n",
            "_________________________________________________________________\n"
          ]
        }
      ]
    },
    {
      "cell_type": "code",
      "source": [
        "model.compile(optimizer = 'rmsprop',\n",
        "              loss = 'categorical_crossentropy',\n",
        "              metrics = 'accuracy')"
      ],
      "metadata": {
        "id": "PKLOB7WebBQu"
      },
      "execution_count": 22,
      "outputs": []
    },
    {
      "cell_type": "code",
      "source": [
        "epochs = 50\n",
        "batch_size = 200\n",
        "history = model.fit(x_train, y_train_label, \n",
        "          epochs = epochs,\n",
        "          batch_size=batch_size,\n",
        "          validation_split= 0.1\n",
        "          )"
      ],
      "metadata": {
        "colab": {
          "base_uri": "https://localhost:8080/"
        },
        "id": "8fu4FlHDC2hh",
        "outputId": "ff51ca38-422d-4782-a87f-805e6aa74803"
      },
      "execution_count": 23,
      "outputs": [
        {
          "output_type": "stream",
          "name": "stdout",
          "text": [
            "Epoch 1/50\n",
            "270/270 [==============================] - 4s 5ms/step - loss: 0.6047 - accuracy: 0.7805 - val_loss: 0.4170 - val_accuracy: 0.8460\n",
            "Epoch 2/50\n",
            "270/270 [==============================] - 2s 6ms/step - loss: 0.4018 - accuracy: 0.8508 - val_loss: 0.3657 - val_accuracy: 0.8658\n",
            "Epoch 3/50\n",
            "270/270 [==============================] - 1s 5ms/step - loss: 0.3516 - accuracy: 0.8681 - val_loss: 0.3559 - val_accuracy: 0.8712\n",
            "Epoch 4/50\n",
            "270/270 [==============================] - 1s 5ms/step - loss: 0.3173 - accuracy: 0.8810 - val_loss: 0.3444 - val_accuracy: 0.8748\n",
            "Epoch 5/50\n",
            "270/270 [==============================] - 1s 5ms/step - loss: 0.2969 - accuracy: 0.8887 - val_loss: 0.3164 - val_accuracy: 0.8848\n",
            "Epoch 6/50\n",
            "270/270 [==============================] - 2s 6ms/step - loss: 0.2805 - accuracy: 0.8937 - val_loss: 0.3077 - val_accuracy: 0.8895\n",
            "Epoch 7/50\n",
            "270/270 [==============================] - 2s 6ms/step - loss: 0.2658 - accuracy: 0.9006 - val_loss: 0.3308 - val_accuracy: 0.8828\n",
            "Epoch 8/50\n",
            "270/270 [==============================] - 2s 7ms/step - loss: 0.2505 - accuracy: 0.9052 - val_loss: 0.3032 - val_accuracy: 0.8927\n",
            "Epoch 9/50\n",
            "270/270 [==============================] - 1s 5ms/step - loss: 0.2413 - accuracy: 0.9085 - val_loss: 0.3370 - val_accuracy: 0.8857\n",
            "Epoch 10/50\n",
            "270/270 [==============================] - 1s 3ms/step - loss: 0.2294 - accuracy: 0.9115 - val_loss: 0.3249 - val_accuracy: 0.8892\n",
            "Epoch 11/50\n",
            "270/270 [==============================] - 1s 3ms/step - loss: 0.2183 - accuracy: 0.9174 - val_loss: 0.3284 - val_accuracy: 0.8877\n",
            "Epoch 12/50\n",
            "270/270 [==============================] - 1s 3ms/step - loss: 0.2116 - accuracy: 0.9204 - val_loss: 0.3027 - val_accuracy: 0.8942\n",
            "Epoch 13/50\n",
            "270/270 [==============================] - 1s 3ms/step - loss: 0.2010 - accuracy: 0.9230 - val_loss: 0.3349 - val_accuracy: 0.8887\n",
            "Epoch 14/50\n",
            "270/270 [==============================] - 1s 4ms/step - loss: 0.1938 - accuracy: 0.9266 - val_loss: 0.3615 - val_accuracy: 0.8860\n",
            "Epoch 15/50\n",
            "270/270 [==============================] - 1s 3ms/step - loss: 0.1870 - accuracy: 0.9286 - val_loss: 0.3223 - val_accuracy: 0.8955\n",
            "Epoch 16/50\n",
            "270/270 [==============================] - 1s 3ms/step - loss: 0.1814 - accuracy: 0.9303 - val_loss: 0.3596 - val_accuracy: 0.8912\n",
            "Epoch 17/50\n",
            "270/270 [==============================] - 1s 3ms/step - loss: 0.1731 - accuracy: 0.9335 - val_loss: 0.3413 - val_accuracy: 0.8922\n",
            "Epoch 18/50\n",
            "270/270 [==============================] - 1s 3ms/step - loss: 0.1687 - accuracy: 0.9362 - val_loss: 0.3456 - val_accuracy: 0.8900\n",
            "Epoch 19/50\n",
            "270/270 [==============================] - 1s 3ms/step - loss: 0.1635 - accuracy: 0.9382 - val_loss: 0.3474 - val_accuracy: 0.8947\n",
            "Epoch 20/50\n",
            "270/270 [==============================] - 1s 4ms/step - loss: 0.1568 - accuracy: 0.9392 - val_loss: 0.3595 - val_accuracy: 0.8918\n",
            "Epoch 21/50\n",
            "270/270 [==============================] - 1s 5ms/step - loss: 0.1541 - accuracy: 0.9417 - val_loss: 0.3633 - val_accuracy: 0.8937\n",
            "Epoch 22/50\n",
            "270/270 [==============================] - 1s 3ms/step - loss: 0.1468 - accuracy: 0.9437 - val_loss: 0.3998 - val_accuracy: 0.8963\n",
            "Epoch 23/50\n",
            "270/270 [==============================] - 1s 3ms/step - loss: 0.1419 - accuracy: 0.9456 - val_loss: 0.4000 - val_accuracy: 0.8935\n",
            "Epoch 24/50\n",
            "270/270 [==============================] - 1s 3ms/step - loss: 0.1395 - accuracy: 0.9459 - val_loss: 0.4841 - val_accuracy: 0.8788\n",
            "Epoch 25/50\n",
            "270/270 [==============================] - 1s 3ms/step - loss: 0.1354 - accuracy: 0.9479 - val_loss: 0.3914 - val_accuracy: 0.8972\n",
            "Epoch 26/50\n",
            "270/270 [==============================] - 1s 3ms/step - loss: 0.1319 - accuracy: 0.9496 - val_loss: 0.3960 - val_accuracy: 0.8942\n",
            "Epoch 27/50\n",
            "270/270 [==============================] - 1s 3ms/step - loss: 0.1286 - accuracy: 0.9511 - val_loss: 0.4153 - val_accuracy: 0.8967\n",
            "Epoch 28/50\n",
            "270/270 [==============================] - 1s 3ms/step - loss: 0.1251 - accuracy: 0.9523 - val_loss: 0.4233 - val_accuracy: 0.8903\n",
            "Epoch 29/50\n",
            "270/270 [==============================] - 1s 3ms/step - loss: 0.1222 - accuracy: 0.9538 - val_loss: 0.4354 - val_accuracy: 0.8913\n",
            "Epoch 30/50\n",
            "270/270 [==============================] - 1s 3ms/step - loss: 0.1207 - accuracy: 0.9530 - val_loss: 0.4611 - val_accuracy: 0.8950\n",
            "Epoch 31/50\n",
            "270/270 [==============================] - 1s 3ms/step - loss: 0.1155 - accuracy: 0.9561 - val_loss: 0.4121 - val_accuracy: 0.8968\n",
            "Epoch 32/50\n",
            "270/270 [==============================] - 1s 3ms/step - loss: 0.1126 - accuracy: 0.9571 - val_loss: 0.4589 - val_accuracy: 0.8897\n",
            "Epoch 33/50\n",
            "270/270 [==============================] - 1s 4ms/step - loss: 0.1114 - accuracy: 0.9581 - val_loss: 0.4941 - val_accuracy: 0.8825\n",
            "Epoch 34/50\n",
            "270/270 [==============================] - 1s 4ms/step - loss: 0.1091 - accuracy: 0.9586 - val_loss: 0.4592 - val_accuracy: 0.8940\n",
            "Epoch 35/50\n",
            "270/270 [==============================] - 1s 4ms/step - loss: 0.1057 - accuracy: 0.9596 - val_loss: 0.4532 - val_accuracy: 0.8987\n",
            "Epoch 36/50\n",
            "270/270 [==============================] - 1s 3ms/step - loss: 0.1041 - accuracy: 0.9602 - val_loss: 0.4825 - val_accuracy: 0.8957\n",
            "Epoch 37/50\n",
            "270/270 [==============================] - 1s 3ms/step - loss: 0.1007 - accuracy: 0.9610 - val_loss: 0.4997 - val_accuracy: 0.8925\n",
            "Epoch 38/50\n",
            "270/270 [==============================] - 1s 3ms/step - loss: 0.0999 - accuracy: 0.9626 - val_loss: 0.5381 - val_accuracy: 0.8917\n",
            "Epoch 39/50\n",
            "270/270 [==============================] - 1s 4ms/step - loss: 0.0960 - accuracy: 0.9636 - val_loss: 0.5307 - val_accuracy: 0.8910\n",
            "Epoch 40/50\n",
            "270/270 [==============================] - 1s 3ms/step - loss: 0.0952 - accuracy: 0.9646 - val_loss: 0.5605 - val_accuracy: 0.8937\n",
            "Epoch 41/50\n",
            "270/270 [==============================] - 1s 3ms/step - loss: 0.0928 - accuracy: 0.9646 - val_loss: 0.5374 - val_accuracy: 0.8980\n",
            "Epoch 42/50\n",
            "270/270 [==============================] - 1s 3ms/step - loss: 0.0915 - accuracy: 0.9650 - val_loss: 0.5694 - val_accuracy: 0.8957\n",
            "Epoch 43/50\n",
            "270/270 [==============================] - 1s 3ms/step - loss: 0.0881 - accuracy: 0.9670 - val_loss: 0.6352 - val_accuracy: 0.8910\n",
            "Epoch 44/50\n",
            "270/270 [==============================] - 1s 3ms/step - loss: 0.0910 - accuracy: 0.9657 - val_loss: 0.5725 - val_accuracy: 0.8963\n",
            "Epoch 45/50\n",
            "270/270 [==============================] - 1s 3ms/step - loss: 0.0869 - accuracy: 0.9671 - val_loss: 0.5700 - val_accuracy: 0.8898\n",
            "Epoch 46/50\n",
            "270/270 [==============================] - 1s 3ms/step - loss: 0.0883 - accuracy: 0.9670 - val_loss: 0.5488 - val_accuracy: 0.8903\n",
            "Epoch 47/50\n",
            "270/270 [==============================] - 1s 5ms/step - loss: 0.0833 - accuracy: 0.9694 - val_loss: 0.6220 - val_accuracy: 0.8910\n",
            "Epoch 48/50\n",
            "270/270 [==============================] - 1s 4ms/step - loss: 0.0815 - accuracy: 0.9693 - val_loss: 0.6005 - val_accuracy: 0.8955\n",
            "Epoch 49/50\n",
            "270/270 [==============================] - 1s 3ms/step - loss: 0.0821 - accuracy: 0.9694 - val_loss: 0.6953 - val_accuracy: 0.8918\n",
            "Epoch 50/50\n",
            "270/270 [==============================] - 1s 3ms/step - loss: 0.0801 - accuracy: 0.9701 - val_loss: 0.6768 - val_accuracy: 0.8837\n"
          ]
        }
      ]
    },
    {
      "cell_type": "code",
      "source": [
        "his_dict =history.history "
      ],
      "metadata": {
        "id": "-WfUSDTLDthk"
      },
      "execution_count": 24,
      "outputs": []
    },
    {
      "cell_type": "code",
      "source": [
        "his_dict.keys()"
      ],
      "metadata": {
        "colab": {
          "base_uri": "https://localhost:8080/"
        },
        "id": "68gHNtI0G364",
        "outputId": "f2d17353-6964-4405-f5f2-20aa7162ab00"
      },
      "execution_count": 25,
      "outputs": [
        {
          "output_type": "execute_result",
          "data": {
            "text/plain": [
              "dict_keys(['loss', 'accuracy', 'val_loss', 'val_accuracy'])"
            ]
          },
          "metadata": {},
          "execution_count": 25
        }
      ]
    },
    {
      "cell_type": "code",
      "source": [
        "train_loss, val_loss  = his_dict['loss'],his_dict['val_loss']\n",
        "train_acc, val_acc  = his_dict['accuracy'],his_dict['val_accuracy']\n",
        "\n"
      ],
      "metadata": {
        "id": "PJ5D4GCsG78Y"
      },
      "execution_count": 26,
      "outputs": []
    },
    {
      "cell_type": "code",
      "source": [
        "fig,(ax1,ax2) = plt.subplots(1,2,figsize=(15,5))\n",
        "epochs_runs = [i+1 for i in range(epochs)]\n",
        "ax1.plot(epochs_runs,train_loss,label=\"Training Loss\")\n",
        "ax1.plot(epochs_runs,val_loss,label=\"validation Loss\", marker = 'o')\n",
        "ax1.set(title = 'Training and Validation Loss' ,xlabel = 'Epochs',ylabel = 'Loss')\n",
        "ax1.legend()\n",
        "\n",
        "\n",
        "ax2.plot(epochs_runs,train_acc,label=\"Training acc\")\n",
        "ax2.plot(epochs_runs,val_acc,label=\"validation acc\", marker = 'o')\n",
        "ax2.set(title = 'Training and Validation Accuracy' ,xlabel = 'Epochs',ylabel = 'Accuracy')\n",
        "ax2.legend()\n",
        "plt.show()"
      ],
      "metadata": {
        "colab": {
          "base_uri": "https://localhost:8080/",
          "height": 350
        },
        "id": "ATcMgUsKHyOq",
        "outputId": "b86f9ff4-fbeb-459c-9de0-27e876c7ed2d"
      },
      "execution_count": 30,
      "outputs": [
        {
          "output_type": "display_data",
          "data": {
            "text/plain": [
              "<Figure size 1080x360 with 2 Axes>"
            ],
            "image/png": "[encoded data removed]"
          },
          "metadata": {
            "needs_background": "light"
          }
        }
      ]
    },
    {
      "cell_type": "markdown",
      "source": [
        "#4.Model Evaluation"
      ],
      "metadata": {
        "id": "8jiF4RpwKGPI"
      }
    },
    {
      "cell_type": "code",
      "source": [
        "score = model.evaluate(x_test,y_test_label)"
      ],
      "metadata": {
        "colab": {
          "base_uri": "https://localhost:8080/"
        },
        "id": "u3ari-hJI0-e",
        "outputId": "431fbe1b-f9cd-4df2-9095-a0cbef9d6048"
      },
      "execution_count": 32,
      "outputs": [
        {
          "output_type": "stream",
          "name": "stdout",
          "text": [
            "313/313 [==============================] - 1s 3ms/step - loss: 0.6833 - accuracy: 0.8834\n"
          ]
        }
      ]
    },
    {
      "cell_type": "code",
      "source": [
        "print(f\"Test score: {score[0]:.4f}\")\n",
        "print(f\"Test Accuracy: {score[1]:.4f}\")"
      ],
      "metadata": {
        "colab": {
          "base_uri": "https://localhost:8080/"
        },
        "id": "1_ztANjHKRiz",
        "outputId": "92f957da-dbfd-45f8-dea7-394815db8596"
      },
      "execution_count": 33,
      "outputs": [
        {
          "output_type": "stream",
          "name": "stdout",
          "text": [
            "Test score: 0.6833\n",
            "Test Accuracy: 0.8834\n"
          ]
        }
      ]
    },
    {
      "cell_type": "markdown",
      "source": [
        "#5.Prediction\n"
      ],
      "metadata": {
        "id": "VDGlWpyZK10t"
      }
    },
    {
      "cell_type": "code",
      "source": [
        "x_sample = x_test[:3]\n",
        "y_proba = model.predict(x_sample)"
      ],
      "metadata": {
        "colab": {
          "base_uri": "https://localhost:8080/"
        },
        "id": "vWksUh75KqBH",
        "outputId": "726d97d4-8c0d-42d9-8997-3ff98ac02703"
      },
      "execution_count": 34,
      "outputs": [
        {
          "output_type": "stream",
          "name": "stdout",
          "text": [
            "1/1 [==============================] - 0s 128ms/step\n"
          ]
        }
      ]
    },
    {
      "cell_type": "code",
      "source": [
        "y_proba.round(3)"
      ],
      "metadata": {
        "colab": {
          "base_uri": "https://localhost:8080/"
        },
        "id": "qrTxZJOOLGPI",
        "outputId": "3b98b671-60ea-4b14-8b73-a13b90accf17"
      },
      "execution_count": 36,
      "outputs": [
        {
          "output_type": "execute_result",
          "data": {
            "text/plain": [
              "array([[0., 0., 0., 0., 0., 0., 0., 0., 0., 1.],\n",
              "       [0., 0., 1., 0., 0., 0., 0., 0., 0., 0.],\n",
              "       [0., 1., 0., 0., 0., 0., 0., 0., 0., 0.]], dtype=float32)"
            ]
          },
          "metadata": {},
          "execution_count": 36
        }
      ]
    },
    {
      "cell_type": "code",
      "source": [
        "prediction = np.argmax(y_proba,axis = 1)"
      ],
      "metadata": {
        "id": "U-2_qRNsLKLD"
      },
      "execution_count": 37,
      "outputs": []
    },
    {
      "cell_type": "code",
      "source": [
        "[class_name[pred] for pred in prediction]"
      ],
      "metadata": {
        "colab": {
          "base_uri": "https://localhost:8080/"
        },
        "id": "sGanKguoLYH9",
        "outputId": "743449f6-4d78-4edd-fe6f-2b577e5739bc"
      },
      "execution_count": 40,
      "outputs": [
        {
          "output_type": "execute_result",
          "data": {
            "text/plain": [
              "['Ankle boot', 'Pullover', 'Trouser']"
            ]
          },
          "metadata": {},
          "execution_count": 40
        }
      ]
    },
    {
      "cell_type": "code",
      "source": [
        "y_proba = model.predict(x_test)"
      ],
      "metadata": {
        "colab": {
          "base_uri": "https://localhost:8080/"
        },
        "id": "B_gIjY4wLcx1",
        "outputId": "2b00fc5b-d876-457e-f7ee-9370d05f6bda"
      },
      "execution_count": 46,
      "outputs": [
        {
          "output_type": "stream",
          "name": "stdout",
          "text": [
            "313/313 [==============================] - 0s 2ms/step\n"
          ]
        }
      ]
    },
    {
      "cell_type": "code",
      "source": [
        "plot_data(x_test,y_test,y_proba)"
      ],
      "metadata": {
        "colab": {
          "base_uri": "https://localhost:8080/",
          "height": 298
        },
        "id": "9VEvd1FzOY8M",
        "outputId": "df995234-9b85-4941-898e-56841ae8c8c6"
      },
      "execution_count": 51,
      "outputs": [
        {
          "output_type": "display_data",
          "data": {
            "text/plain": [
              "<Figure size 576x288 with 8 Axes>"
            ],
            "image/png": "[encoded data removed]"
          },
          "metadata": {}
        }
      ]
    },
    {
      "cell_type": "markdown",
      "source": [
        "#End"
      ],
      "metadata": {
        "id": "BAguRAeaOzKI"
      }
    },
    {
      "cell_type": "code",
      "source": [],
      "metadata": {
        "id": "YExMnse-Ogek"
      },
      "execution_count": null,
      "outputs": []
    }
  ]
}